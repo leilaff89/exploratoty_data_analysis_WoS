{
 "cells": [
  {
   "cell_type": "markdown",
   "id": "84665777-688d-4b98-933a-b74ba79d9e0f",
   "metadata": {},
   "source": [
    "### Creating a map based on address coordinates of WoS dataset"
   ]
  },
  {
   "cell_type": "code",
   "execution_count": 1,
   "id": "99c3e110-5a4b-49d6-b79a-1d8099c34502",
   "metadata": {},
   "outputs": [],
   "source": [
    "import pandas as pd\n",
    "import folium\n",
    "import geocoder\n",
    "import geopy"
   ]
  },
  {
   "cell_type": "code",
   "execution_count": 2,
   "id": "84c58596-55e2-422b-9136-49756abeae74",
   "metadata": {},
   "outputs": [],
   "source": [
    "df = pd.read_excel(f'address.xlsx')"
   ]
  },
  {
   "cell_type": "code",
   "execution_count": 3,
   "id": "fb1a28e1-4c3c-46b6-9e5c-f50da9d67f3e",
   "metadata": {},
   "outputs": [
    {
     "data": {
      "text/html": [
       "<div>\n",
       "<style scoped>\n",
       "    .dataframe tbody tr th:only-of-type {\n",
       "        vertical-align: middle;\n",
       "    }\n",
       "\n",
       "    .dataframe tbody tr th {\n",
       "        vertical-align: top;\n",
       "    }\n",
       "\n",
       "    .dataframe thead th {\n",
       "        text-align: right;\n",
       "    }\n",
       "</style>\n",
       "<table border=\"1\" class=\"dataframe\">\n",
       "  <thead>\n",
       "    <tr style=\"text-align: right;\">\n",
       "      <th></th>\n",
       "      <th>PA</th>\n",
       "    </tr>\n",
       "  </thead>\n",
       "  <tbody>\n",
       "    <tr>\n",
       "      <th>0</th>\n",
       "      <td>RADARWEG 29, 1043 NX AMSTERDAM, NETHERLANDS</td>\n",
       "    </tr>\n",
       "    <tr>\n",
       "      <th>1</th>\n",
       "      <td>445 HOES LANE, PISCATAWAY, NJ 08855-4141 USA</td>\n",
       "    </tr>\n",
       "    <tr>\n",
       "      <th>2</th>\n",
       "      <td>ONE NEW YORK PLAZA, SUITE 4600, NEW YORK, NY, ...</td>\n",
       "    </tr>\n",
       "    <tr>\n",
       "      <th>3</th>\n",
       "      <td>445 HOES LANE, PISCATAWAY, NJ 08855-4141 USA</td>\n",
       "    </tr>\n",
       "    <tr>\n",
       "      <th>4</th>\n",
       "      <td>445 HOES LANE, PISCATAWAY, NJ 08855-4141 USA</td>\n",
       "    </tr>\n",
       "    <tr>\n",
       "      <th>5</th>\n",
       "      <td>445 HOES LANE, PISCATAWAY, NJ 08855-4141 USA</td>\n",
       "    </tr>\n",
       "    <tr>\n",
       "      <th>6</th>\n",
       "      <td>10662 LOS VAQUEROS CIRCLE, PO BOX 3014, LOS AL...</td>\n",
       "    </tr>\n",
       "    <tr>\n",
       "      <th>7</th>\n",
       "      <td>445 HOES LANE, PISCATAWAY, NJ 08855-4141 USA</td>\n",
       "    </tr>\n",
       "    <tr>\n",
       "      <th>8</th>\n",
       "      <td>445 HOES LANE, PISCATAWAY, NJ 08855-4141 USA</td>\n",
       "    </tr>\n",
       "    <tr>\n",
       "      <th>9</th>\n",
       "      <td>ST ALBAN-ANLAGE 66, CH-4052 BASEL, SWITZERLAND</td>\n",
       "    </tr>\n",
       "  </tbody>\n",
       "</table>\n",
       "</div>"
      ],
      "text/plain": [
       "                                                  PA\n",
       "0        RADARWEG 29, 1043 NX AMSTERDAM, NETHERLANDS\n",
       "1       445 HOES LANE, PISCATAWAY, NJ 08855-4141 USA\n",
       "2  ONE NEW YORK PLAZA, SUITE 4600, NEW YORK, NY, ...\n",
       "3       445 HOES LANE, PISCATAWAY, NJ 08855-4141 USA\n",
       "4       445 HOES LANE, PISCATAWAY, NJ 08855-4141 USA\n",
       "5       445 HOES LANE, PISCATAWAY, NJ 08855-4141 USA\n",
       "6  10662 LOS VAQUEROS CIRCLE, PO BOX 3014, LOS AL...\n",
       "7       445 HOES LANE, PISCATAWAY, NJ 08855-4141 USA\n",
       "8       445 HOES LANE, PISCATAWAY, NJ 08855-4141 USA\n",
       "9     ST ALBAN-ANLAGE 66, CH-4052 BASEL, SWITZERLAND"
      ]
     },
     "execution_count": 3,
     "metadata": {},
     "output_type": "execute_result"
    }
   ],
   "source": [
    "df.head(10)"
   ]
  },
  {
   "cell_type": "code",
   "execution_count": 4,
   "id": "e7c362d9-b8e0-447c-acf3-cc0e4370e4ea",
   "metadata": {},
   "outputs": [
    {
     "name": "stdout",
     "output_type": "stream",
     "text": [
      "<class 'pandas.core.frame.DataFrame'>\n",
      "RangeIndex: 2298 entries, 0 to 2297\n",
      "Data columns (total 1 columns):\n",
      " #   Column  Non-Null Count  Dtype \n",
      "---  ------  --------------  ----- \n",
      " 0   PA      2298 non-null   object\n",
      "dtypes: object(1)\n",
      "memory usage: 18.1+ KB\n"
     ]
    }
   ],
   "source": [
    "df.info()"
   ]
  },
  {
   "cell_type": "code",
   "execution_count": 5,
   "id": "8f6f50ab-a5f3-4409-ba0b-d9329e35f70a",
   "metadata": {},
   "outputs": [],
   "source": [
    "df.drop_duplicates(subset=\"PA\", inplace = True)"
   ]
  },
  {
   "cell_type": "code",
   "execution_count": 6,
   "id": "d0ef0dbc-7bf6-42f0-bf04-57ca31c26313",
   "metadata": {},
   "outputs": [],
   "source": [
    "df.reset_index(inplace = True)"
   ]
  },
  {
   "cell_type": "code",
   "execution_count": 7,
   "id": "d723d4e4-5c22-4407-bfa2-e592766f783e",
   "metadata": {},
   "outputs": [
    {
     "name": "stdout",
     "output_type": "stream",
     "text": [
      "<class 'pandas.core.frame.DataFrame'>\n",
      "RangeIndex: 76 entries, 0 to 75\n",
      "Data columns (total 2 columns):\n",
      " #   Column  Non-Null Count  Dtype \n",
      "---  ------  --------------  ----- \n",
      " 0   index   76 non-null     int64 \n",
      " 1   PA      76 non-null     object\n",
      "dtypes: int64(1), object(1)\n",
      "memory usage: 1.3+ KB\n"
     ]
    }
   ],
   "source": [
    "df.info()"
   ]
  },
  {
   "cell_type": "code",
   "execution_count": 8,
   "id": "b878f078-02cf-41eb-93b6-9f1fb7d98616",
   "metadata": {
    "tags": []
   },
   "outputs": [],
   "source": [
    "#getting the coordinates using Geocoder Arcgis\n",
    "coord = []\n",
    "for i in range(len(df['PA'])):\n",
    "    g = geocoder.arcgis(df['PA'][i])\n",
    "    latlong = g.latlng\n",
    "    coord.append(latlong)"
   ]
  },
  {
   "cell_type": "code",
   "execution_count": 9,
   "id": "5fcf9dc2-ee64-449b-9809-286181c5904d",
   "metadata": {},
   "outputs": [
    {
     "data": {
      "text/plain": [
       "76"
      ]
     },
     "execution_count": 9,
     "metadata": {},
     "output_type": "execute_result"
    }
   ],
   "source": [
    "len(coord)"
   ]
  },
  {
   "cell_type": "code",
   "execution_count": 10,
   "id": "bee89172-a1b1-49b0-bcf3-28c65ce97ba6",
   "metadata": {},
   "outputs": [],
   "source": [
    "df = pd.DataFrame(columns=['latitude', 'longitude'], data=coord)"
   ]
  },
  {
   "cell_type": "code",
   "execution_count": 11,
   "id": "8e5c1228-c0ca-4513-aa44-c203a0dd1efa",
   "metadata": {},
   "outputs": [],
   "source": [
    "df.to_csv('coordinates.csv')"
   ]
  },
  {
   "cell_type": "code",
   "execution_count": 12,
   "id": "64a3f15d-b31e-40ec-b8b0-309078f277e1",
   "metadata": {
    "tags": []
   },
   "outputs": [
    {
     "data": {
      "text/html": [
       "<div>\n",
       "<style scoped>\n",
       "    .dataframe tbody tr th:only-of-type {\n",
       "        vertical-align: middle;\n",
       "    }\n",
       "\n",
       "    .dataframe tbody tr th {\n",
       "        vertical-align: top;\n",
       "    }\n",
       "\n",
       "    .dataframe thead th {\n",
       "        text-align: right;\n",
       "    }\n",
       "</style>\n",
       "<table border=\"1\" class=\"dataframe\">\n",
       "  <thead>\n",
       "    <tr style=\"text-align: right;\">\n",
       "      <th></th>\n",
       "      <th>latitude</th>\n",
       "      <th>longitude</th>\n",
       "    </tr>\n",
       "  </thead>\n",
       "  <tbody>\n",
       "    <tr>\n",
       "      <th>0</th>\n",
       "      <td>52.393165</td>\n",
       "      <td>4.836945</td>\n",
       "    </tr>\n",
       "    <tr>\n",
       "      <th>1</th>\n",
       "      <td>40.541224</td>\n",
       "      <td>-74.470537</td>\n",
       "    </tr>\n",
       "    <tr>\n",
       "      <th>2</th>\n",
       "      <td>40.702365</td>\n",
       "      <td>-74.012162</td>\n",
       "    </tr>\n",
       "    <tr>\n",
       "      <th>3</th>\n",
       "      <td>33.809143</td>\n",
       "      <td>-118.058916</td>\n",
       "    </tr>\n",
       "    <tr>\n",
       "      <th>4</th>\n",
       "      <td>47.552169</td>\n",
       "      <td>7.603122</td>\n",
       "    </tr>\n",
       "    <tr>\n",
       "      <th>5</th>\n",
       "      <td>32.717557</td>\n",
       "      <td>-117.159723</td>\n",
       "    </tr>\n",
       "    <tr>\n",
       "      <th>6</th>\n",
       "      <td>54.903786</td>\n",
       "      <td>23.957901</td>\n",
       "    </tr>\n",
       "    <tr>\n",
       "      <th>7</th>\n",
       "      <td>36.000532</td>\n",
       "      <td>-115.111005</td>\n",
       "    </tr>\n",
       "    <tr>\n",
       "      <th>8</th>\n",
       "      <td>39.936500</td>\n",
       "      <td>116.499300</td>\n",
       "    </tr>\n",
       "    <tr>\n",
       "      <th>9</th>\n",
       "      <td>52.369930</td>\n",
       "      <td>4.907880</td>\n",
       "    </tr>\n",
       "  </tbody>\n",
       "</table>\n",
       "</div>"
      ],
      "text/plain": [
       "    latitude   longitude\n",
       "0  52.393165    4.836945\n",
       "1  40.541224  -74.470537\n",
       "2  40.702365  -74.012162\n",
       "3  33.809143 -118.058916\n",
       "4  47.552169    7.603122\n",
       "5  32.717557 -117.159723\n",
       "6  54.903786   23.957901\n",
       "7  36.000532 -115.111005\n",
       "8  39.936500  116.499300\n",
       "9  52.369930    4.907880"
      ]
     },
     "execution_count": 12,
     "metadata": {},
     "output_type": "execute_result"
    }
   ],
   "source": [
    "df.head(10)"
   ]
  },
  {
   "cell_type": "code",
   "execution_count": 13,
   "id": "31d8596f-315c-46c2-ad46-517dbf1361a6",
   "metadata": {
    "tags": []
   },
   "outputs": [],
   "source": [
    "world_map = folium.Map(zoom_start = 4)\n",
    "\n",
    "for lat, long in zip(df['latitude'], df['longitude']):\n",
    "    folium.Marker([lat, long], icon=folium.Icon(color=\"blue\", icon='heart', prefix='glyphicon')).add_to(world_map)  "
   ]
  },
  {
   "cell_type": "code",
   "execution_count": 14,
   "id": "8f21f303-f513-473c-979b-878a1d3306e5",
   "metadata": {
    "tags": []
   },
   "outputs": [],
   "source": [
    "world_map.save('world_map.html')"
   ]
  }
 ],
 "metadata": {
  "kernelspec": {
   "display_name": "Python 3",
   "language": "python",
   "name": "python3"
  },
  "language_info": {
   "codemirror_mode": {
    "name": "ipython",
    "version": 3
   },
   "file_extension": ".py",
   "mimetype": "text/x-python",
   "name": "python",
   "nbconvert_exporter": "python",
   "pygments_lexer": "ipython3",
   "version": "3.8.8"
  }
 },
 "nbformat": 4,
 "nbformat_minor": 5
}
